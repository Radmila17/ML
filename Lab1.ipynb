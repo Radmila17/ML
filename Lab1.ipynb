{
  "cells": [
    {
      "cell_type": "code",
      "execution_count": 55,
      "metadata": {
        "id": "oOg8dycgwjB1"
      },
      "outputs": [],
      "source": [
        "import numpy as np\n",
        "\n",
        "class Perceptron:\n",
        "    def __init__(self, input_size, features, learning_rate, epochs, error_threshold=0.1):\n",
        "      self.input_size = input_size\n",
        "      self.learning_rate = learning_rate\n",
        "      self.epochs = epochs\n",
        "      self.MSE = []\n",
        "      self.weights =  np.random.uniform(-1,1,(input_size,features))\n",
        "      self.biases = np.random.uniform(-1,1,features)\n",
        "      self.error_threshold = error_threshold\n",
        "\n",
        "    #weght sum\n",
        "    def find_net(self, x):\n",
        "      return np.dot(x, self.weights) + self.biases\n",
        "\n",
        "    #сигмоида\n",
        "    def activate(self, net):\n",
        "      return 1/(1+np.exp(-net))\n",
        "\n",
        "    def derivative_activation(self, y_output):\n",
        "      return y_output * (1 - y_output)\n",
        "\n",
        "    def fit(self, X, D):\n",
        "      small_diff_count = 0\n",
        "      for j in range(self.epochs):\n",
        "        loss=0\n",
        "        for i in range(len(D)):\n",
        "          x = X[i]\n",
        "          y = D[i]\n",
        "          net = self.find_net(x)\n",
        "          y_output = self.activate(net)\n",
        "          error = y - y_output\n",
        "          gradient = error * self.derivative_activation(y_output)\n",
        "          self.weights+= self.learning_rate * np.outer(x, gradient)\n",
        "          self.biases += self.learning_rate * gradient\n",
        "          loss += np.mean(error**2)\n",
        "        self.MSE.append(loss / len(X))\n",
        "        if self.MSE[-1]>=self.error_threshold:\n",
        "            print(f\"Значение общей ошибки в эпохе {j} превышает пороговое значение {self.error_threshold}\")\n",
        "            break\n",
        "        if j>0 and abs(self.MSE[-2]- self.MSE[-1]<0.001):\n",
        "            small_diff_count+=1\n",
        "        if small_diff_count>3:\n",
        "            print(\"Значение потерь меняется незначительно на протяжении нескольких эпох.\")\n",
        "            break\n",
        "\n",
        "    def evaluate(self, X, y):\n",
        "        correct_predictions = 0\n",
        "        for i in range(len(X)):\n",
        "            net = self.find_net(X[i])\n",
        "            predict = self.activate(net)\n",
        "            if np.argmax(predict) == np.argmax(y[i]):\n",
        "                correct_predictions += 1\n",
        "        return correct_predictions / len(X)\n",
        "\n"
      ]
    },
    {
      "cell_type": "code",
      "execution_count": 56,
      "metadata": {
        "id": "v7hrXM2SpdB5"
      },
      "outputs": [],
      "source": [
        "from tensorflow.keras.datasets import fashion_mnist\n",
        "from tensorflow.keras.utils import to_categorical\n",
        "from sklearn.model_selection import train_test_split\n",
        "\n",
        "(x_train, y_train), (x_test, y_test) = fashion_mnist.load_data()\n",
        "x_train = x_train.reshape(x_train.shape[0], -1) / 255.0\n",
        "x_test = x_test.reshape(x_test.shape[0], -1) / 255.0\n",
        "y_train = to_categorical(y_train)\n",
        "y_test = to_categorical(y_test)\n",
        "\n",
        "x_train, x_val, y_train, y_val = train_test_split(\n",
        "    x_train, y_train, test_size=0.2)\n",
        "\n",
        "perceptron = Perceptron(input_size=x_train.shape[1], features=y_train.shape[1], learning_rate=1, epochs=5)\n",
        "perceptron.fit(x_train, y_train)"
      ]
    },
    {
      "cell_type": "code",
      "source": [
        "best_lr = None\n",
        "best_val_acc = 0\n",
        "learning_rates = [0.001, 0.01, 0.1, 0.25, 0.5, 0.7, 1.0]\n",
        "\n",
        "for lr in learning_rates:\n",
        "    print(f\"\\nlearning rate = {lr}\")\n",
        "    perceptron = Perceptron(input_size=x_train.shape[1],features=y_train.shape[1], learning_rate=lr, epochs=10)\n",
        "\n",
        "    perceptron.fit(x_val, y_val)\n",
        "    val_acc = perceptron.evaluate(x_val, y_val)\n",
        "    print(f\"Точность на валидации: {val_acc * 100:.2f}%\")\n",
        "\n",
        "    if val_acc > best_val_acc:\n",
        "        best_val_acc = val_acc\n",
        "        best_lr = lr\n",
        "\n",
        "print(f\"\\nЛучший learning rate: {best_lr} с точностью {best_val_acc * 100:.2f}%\")"
      ],
      "metadata": {
        "colab": {
          "base_uri": "https://localhost:8080/"
        },
        "id": "NzNa_PENfx3x",
        "outputId": "a6571ce4-8198-4e31-9775-5cd005f00e44"
      },
      "execution_count": 57,
      "outputs": [
        {
          "output_type": "stream",
          "name": "stdout",
          "text": [
            "\n",
            "learning rate = 0.001\n",
            "Значение общей ошибки в эпохе 0 превышает пороговое значение 0.1\n",
            "Точность на валидации: 11.15%\n",
            "\n",
            "learning rate = 0.01\n",
            "Точность на валидации: 62.15%\n",
            "\n",
            "learning rate = 0.1\n",
            "Значение потерь меняется незначительно на протяжении нескольких эпох.\n",
            "Точность на валидации: 47.58%\n",
            "\n",
            "learning rate = 0.25\n",
            "Точность на валидации: 61.52%\n",
            "\n",
            "learning rate = 0.5\n",
            "Точность на валидации: 81.73%\n",
            "\n",
            "learning rate = 0.7\n",
            "Точность на валидации: 65.18%\n",
            "\n",
            "learning rate = 1.0\n",
            "Точность на валидации: 64.72%\n",
            "\n",
            "Лучший learning rate: 0.5 с точностью 81.73%\n"
          ]
        }
      ]
    },
    {
      "cell_type": "code",
      "source": [
        "# Переобучение\n",
        "perceptron = Perceptron(input_size=x_train.shape[1], features=y_train.shape[1], learning_rate=best_lr, epochs=10)\n",
        "perceptron.fit(x_train, y_train)"
      ],
      "metadata": {
        "colab": {
          "base_uri": "https://localhost:8080/"
        },
        "id": "rTvq_HdUpGjb",
        "outputId": "a91f10f3-7bf7-4ce3-8220-fa8a69a60050"
      },
      "execution_count": 58,
      "outputs": [
        {
          "output_type": "stream",
          "name": "stdout",
          "text": [
            "Значение потерь меняется незначительно на протяжении нескольких эпох.\n"
          ]
        }
      ]
    },
    {
      "cell_type": "code",
      "execution_count": 59,
      "metadata": {
        "colab": {
          "base_uri": "https://localhost:8080/"
        },
        "id": "yCfiZyn5pdTh",
        "outputId": "5c5dc5ce-82c8-4591-e029-7632434031b8"
      },
      "outputs": [
        {
          "output_type": "stream",
          "name": "stdout",
          "text": [
            "Точность на тестовой выборке: 75.72%\n"
          ]
        }
      ],
      "source": [
        "accuracy = perceptron.evaluate(x_test, y_test)\n",
        "\n",
        "print(f\"Точность на тестовой выборке: {accuracy * 100:.2f}%\")"
      ]
    },
    {
      "cell_type": "code",
      "execution_count": 60,
      "metadata": {
        "colab": {
          "base_uri": "https://localhost:8080/",
          "height": 447
        },
        "id": "BUZgjAOMozlK",
        "outputId": "1a123e97-7326-43a9-8bcb-a233375bf4e7"
      },
      "outputs": [
        {
          "output_type": "display_data",
          "data": {
            "text/plain": [
              "<Figure size 640x480 with 1 Axes>"
            ],
            "image/png": "[encoded data removed]"
          },
          "metadata": {}
        },
        {
          "output_type": "stream",
          "name": "stdout",
          "text": [
            "Результат: 0\n"
          ]
        }
      ],
      "source": [
        "import numpy as np\n",
        "import matplotlib.pyplot as plt\n",
        "from skimage.transform import resize\n",
        "\n",
        "test_image = plt.imread(\"/content/t-short.jpg\")\n",
        "\n",
        "\n",
        "test_image = 1 - (test_image / 255)\n",
        "\n",
        "test_image = test_image.reshape(28 * 28)\n",
        "\n",
        "plt.imshow(test_image.reshape(28, 28), cmap=\"Greys\")\n",
        "plt.show()\n",
        "\n",
        "image = np.reshape(test_image, (-1, 1))\n",
        "linear_output = np.dot(perceptron.weights.T, image)\n",
        "final_output = perceptron.activate(linear_output.T)\n",
        "print(f\"Результат: {final_output.argmax()}\")"
      ]
    }
  ],
  "metadata": {
    "colab": {
      "provenance": []
    },
    "kernelspec": {
      "display_name": "Python 3",
      "name": "python3"
    },
    "language_info": {
      "name": "python"
    }
  },
  "nbformat": 4,
  "nbformat_minor": 0
}