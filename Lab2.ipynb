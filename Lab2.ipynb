{
  "nbformat": 4,
  "nbformat_minor": 0,
  "metadata": {
    "colab": {
      "provenance": []
    },
    "kernelspec": {
      "name": "python3",
      "display_name": "Python 3"
    },
    "language_info": {
      "name": "python"
    }
  },
  "cells": [
    {
      "cell_type": "code",
      "execution_count": 4,
      "metadata": {
        "id": "7DqhBPoJdUap"
      },
      "outputs": [],
      "source": [
        "import numpy as np\n",
        "\n",
        "class Perceptron:\n",
        "    def __init__(self, input_size, features, learning_rate, epochs, error_threshold=0.1):\n",
        "      self.input_size = input_size\n",
        "      self.learning_rate = learning_rate\n",
        "      self.epochs = epochs\n",
        "      self.MSE = []\n",
        "      self.weights =  np.random.uniform(-1,1,(input_size,features))\n",
        "      self.biases = np.random.uniform(-1,1,features)\n",
        "      self.error_threshold = error_threshold\n",
        "\n",
        "    #взвешенная сумма\n",
        "    def find_net(self, x):\n",
        "        return np.dot(x, self.weights) + self.biases\n",
        "\n",
        "    #softmax\n",
        "    def activate(self, net):\n",
        "        e_x = np.exp(net - np.max(net))\n",
        "        return e_x / e_x.sum(axis=-1, keepdims=True)\n",
        "\n",
        "\n",
        "    def fit(self, X, D):\n",
        "      small_diff_count = 0\n",
        "      correct_num = 0\n",
        "      for j in range(self.epochs):\n",
        "        loss=0\n",
        "        for i in range(len(D)):\n",
        "          x = X[i]\n",
        "          y = D[i]\n",
        "          net = self.find_net(x)\n",
        "          y_output = self.activate(net)\n",
        "          predicted = np.argmax(y_output)\n",
        "          target = np.argmax(y)\n",
        "\n",
        "          if target==predicted:\n",
        "            correct_num +=1\n",
        "            continue\n",
        "          else:\n",
        "            self.weights[:,target] += self.learning_rate * X[i]\n",
        "            self.biases[target] += self.learning_rate\n",
        "\n",
        "            self.weights[:,predicted] -= self.learning_rate * X[i]\n",
        "            self.biases[predicted] -= self.learning_rate\n",
        "          error = y_output - y\n",
        "          loss += np.mean(error**2)\n",
        "\n",
        "        self.MSE.append(loss / len(X))\n",
        "        if self.MSE[-1]>=self.error_threshold:\n",
        "            print(f\"Значение общей ошибки в эпохе {j} превышает пороговое значение {self.error_threshold}\")\n",
        "            break\n",
        "        if j>0 and abs(self.MSE[-2]- self.MSE[-1]<0.001):\n",
        "            small_diff_count+=1\n",
        "        if small_diff_count>3:\n",
        "            print(\"Значение потерь меняется незначительно на протяжении нескольких эпох.\")\n",
        "            break\n",
        "\n",
        "    def evaluate(self, X, y):\n",
        "        correct_predictions = 0\n",
        "        for i in range(len(X)):\n",
        "            net = self.find_net(X[i])\n",
        "            predict = self.activate(net)\n",
        "            if np.argmax(predict) == np.argmax(y[i]):\n",
        "                correct_predictions += 1\n",
        "        return correct_predictions / len(X)"
      ]
    },
    {
      "cell_type": "code",
      "source": [
        "from tensorflow.keras.datasets import fashion_mnist\n",
        "from tensorflow.keras.utils import to_categorical\n",
        "from sklearn.model_selection import train_test_split\n",
        "\n",
        "(x_train, y_train), (x_test, y_test) = fashion_mnist.load_data()\n",
        "x_train = x_train.reshape(x_train.shape[0], -1) / 255.0\n",
        "x_test = x_test.reshape(x_test.shape[0], -1) / 255.0\n",
        "y_train = to_categorical(y_train)\n",
        "y_test = to_categorical(y_test)\n",
        "\n",
        "x_train, x_val, y_train, y_val = train_test_split(\n",
        "    x_train, y_train, test_size=0.2)\n",
        "\n",
        "perceptron = Perceptron(input_size=x_train.shape[1], features=y_train.shape[1], learning_rate=0.5, epochs=10)\n",
        "perceptron.fit(x_train, y_train)"
      ],
      "metadata": {
        "id": "T_kYOBbKeUmh",
        "colab": {
          "base_uri": "https://localhost:8080/"
        },
        "outputId": "ba3b1488-e148-44bf-b067-0ed858fc44e7"
      },
      "execution_count": 5,
      "outputs": [
        {
          "output_type": "stream",
          "name": "stdout",
          "text": [
            "Значение потерь меняется незначительно на протяжении нескольких эпох.\n"
          ]
        }
      ]
    },
    {
      "cell_type": "code",
      "source": [
        "accuracy = perceptron.evaluate(x_test, y_test)\n",
        "\n",
        "print(f\"Точность на обучающей выборке: {accuracy * 100:.2f}%\")"
      ],
      "metadata": {
        "colab": {
          "base_uri": "https://localhost:8080/"
        },
        "id": "waH8ADLU54OM",
        "outputId": "5299c94b-6b4c-451b-9af9-011922d61bd9"
      },
      "execution_count": 6,
      "outputs": [
        {
          "output_type": "stream",
          "name": "stdout",
          "text": [
            "Точность на обучающей выборке: 69.79%\n"
          ]
        }
      ]
    },
    {
      "cell_type": "code",
      "source": [
        "import numpy as np\n",
        "import matplotlib.pyplot as plt\n",
        "from skimage.transform import resize\n",
        "\n",
        "test_image = plt.imread(\"/content/dress.png\")\n",
        "\n",
        "\n",
        "if len(test_image.shape) == 3:\n",
        "    test_image = np.mean(test_image, axis=2)\n",
        "\n",
        "test_image = resize(test_image, (28, 28))\n",
        "\n",
        "test_image = (test_image / 255)\n",
        "\n",
        "plt.imshow(test_image.reshape(28, 28), cmap=\"Greys\")\n",
        "plt.show()\n",
        "\n",
        "image = np.reshape(test_image, (-1, 1))\n",
        "linear_output = np.dot(perceptron.weights.T, image)\n",
        "final_output = perceptron.activate(linear_output.T)\n",
        "print(f\"Результат: {final_output.argmax()}\")"
      ],
      "metadata": {
        "colab": {
          "base_uri": "https://localhost:8080/",
          "height": 447
        },
        "id": "fcb1Cj4s54ci",
        "outputId": "6a6b835c-73f8-49cd-a018-d573430d629f"
      },
      "execution_count": 21,
      "outputs": [
        {
          "output_type": "display_data",
          "data": {
            "text/plain": [
              "<Figure size 640x480 with 1 Axes>"
            ],
            "image/png": "[encoded data removed]"
          },
          "metadata": {}
        },
        {
          "output_type": "stream",
          "name": "stdout",
          "text": [
            "Результат: 3\n"
          ]
        }
      ]
    }
  ]
}