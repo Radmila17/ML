{
  "cells": [
    {
      "cell_type": "code",
      "execution_count": 2,
      "metadata": {
        "id": "0sIUddtN-SI4",
        "colab": {
          "base_uri": "https://localhost:8080/"
        },
        "outputId": "1dec0b03-a6d5-486f-e9b6-7cc9c72d89aa"
      },
      "outputs": [
        {
          "output_type": "stream",
          "name": "stdout",
          "text": [
            "Downloading data from https://storage.googleapis.com/tensorflow/tf-keras-datasets/train-labels-idx1-ubyte.gz\n",
            "\u001b[1m29515/29515\u001b[0m \u001b[32m━━━━━━━━━━━━━━━━━━━━\u001b[0m\u001b[37m\u001b[0m \u001b[1m0s\u001b[0m 0us/step\n",
            "Downloading data from https://storage.googleapis.com/tensorflow/tf-keras-datasets/train-images-idx3-ubyte.gz\n",
            "\u001b[1m26421880/26421880\u001b[0m \u001b[32m━━━━━━━━━━━━━━━━━━━━\u001b[0m\u001b[37m\u001b[0m \u001b[1m0s\u001b[0m 0us/step\n",
            "Downloading data from https://storage.googleapis.com/tensorflow/tf-keras-datasets/t10k-labels-idx1-ubyte.gz\n",
            "\u001b[1m5148/5148\u001b[0m \u001b[32m━━━━━━━━━━━━━━━━━━━━\u001b[0m\u001b[37m\u001b[0m \u001b[1m0s\u001b[0m 0us/step\n",
            "Downloading data from https://storage.googleapis.com/tensorflow/tf-keras-datasets/t10k-images-idx3-ubyte.gz\n",
            "\u001b[1m4422102/4422102\u001b[0m \u001b[32m━━━━━━━━━━━━━━━━━━━━\u001b[0m\u001b[37m\u001b[0m \u001b[1m0s\u001b[0m 0us/step\n"
          ]
        },
        {
          "output_type": "stream",
          "name": "stderr",
          "text": [
            "/usr/local/lib/python3.11/dist-packages/keras/src/layers/core/dense.py:87: UserWarning: Do not pass an `input_shape`/`input_dim` argument to a layer. When using Sequential models, prefer using an `Input(shape)` object as the first layer in the model instead.\n",
            "  super().__init__(activity_regularizer=activity_regularizer, **kwargs)\n"
          ]
        },
        {
          "output_type": "stream",
          "name": "stdout",
          "text": [
            "Epoch 1/10\n",
            "\u001b[1m1688/1688\u001b[0m \u001b[32m━━━━━━━━━━━━━━━━━━━━\u001b[0m\u001b[37m\u001b[0m \u001b[1m6s\u001b[0m 3ms/step - accuracy: 0.7053 - loss: 0.8779 - val_accuracy: 0.8268 - val_loss: 0.4949\n",
            "Epoch 2/10\n",
            "\u001b[1m1688/1688\u001b[0m \u001b[32m━━━━━━━━━━━━━━━━━━━━\u001b[0m\u001b[37m\u001b[0m \u001b[1m5s\u001b[0m 3ms/step - accuracy: 0.8356 - loss: 0.4746 - val_accuracy: 0.8443 - val_loss: 0.4486\n",
            "Epoch 3/10\n",
            "\u001b[1m1688/1688\u001b[0m \u001b[32m━━━━━━━━━━━━━━━━━━━━\u001b[0m\u001b[37m\u001b[0m \u001b[1m4s\u001b[0m 2ms/step - accuracy: 0.8488 - loss: 0.4304 - val_accuracy: 0.8430 - val_loss: 0.4277\n",
            "Epoch 4/10\n",
            "\u001b[1m1688/1688\u001b[0m \u001b[32m━━━━━━━━━━━━━━━━━━━━\u001b[0m\u001b[37m\u001b[0m \u001b[1m6s\u001b[0m 3ms/step - accuracy: 0.8594 - loss: 0.4111 - val_accuracy: 0.8542 - val_loss: 0.4147\n",
            "Epoch 5/10\n",
            "\u001b[1m1688/1688\u001b[0m \u001b[32m━━━━━━━━━━━━━━━━━━━━\u001b[0m\u001b[37m\u001b[0m \u001b[1m4s\u001b[0m 2ms/step - accuracy: 0.8617 - loss: 0.4008 - val_accuracy: 0.8522 - val_loss: 0.4245\n",
            "Epoch 6/10\n",
            "\u001b[1m1688/1688\u001b[0m \u001b[32m━━━━━━━━━━━━━━━━━━━━\u001b[0m\u001b[37m\u001b[0m \u001b[1m5s\u001b[0m 2ms/step - accuracy: 0.8633 - loss: 0.3930 - val_accuracy: 0.8390 - val_loss: 0.4497\n",
            "Epoch 7/10\n",
            "\u001b[1m1688/1688\u001b[0m \u001b[32m━━━━━━━━━━━━━━━━━━━━\u001b[0m\u001b[37m\u001b[0m \u001b[1m6s\u001b[0m 3ms/step - accuracy: 0.8634 - loss: 0.3854 - val_accuracy: 0.8528 - val_loss: 0.4189\n",
            "Epoch 8/10\n",
            "\u001b[1m1688/1688\u001b[0m \u001b[32m━━━━━━━━━━━━━━━━━━━━\u001b[0m\u001b[37m\u001b[0m \u001b[1m3s\u001b[0m 2ms/step - accuracy: 0.8667 - loss: 0.3836 - val_accuracy: 0.8605 - val_loss: 0.3991\n",
            "Epoch 9/10\n",
            "\u001b[1m1688/1688\u001b[0m \u001b[32m━━━━━━━━━━━━━━━━━━━━\u001b[0m\u001b[37m\u001b[0m \u001b[1m5s\u001b[0m 2ms/step - accuracy: 0.8662 - loss: 0.3787 - val_accuracy: 0.8563 - val_loss: 0.4100\n",
            "Epoch 10/10\n",
            "\u001b[1m1688/1688\u001b[0m \u001b[32m━━━━━━━━━━━━━━━━━━━━\u001b[0m\u001b[37m\u001b[0m \u001b[1m5s\u001b[0m 2ms/step - accuracy: 0.8681 - loss: 0.3764 - val_accuracy: 0.8560 - val_loss: 0.4070\n",
            "\u001b[1m313/313\u001b[0m \u001b[32m━━━━━━━━━━━━━━━━━━━━\u001b[0m\u001b[37m\u001b[0m \u001b[1m1s\u001b[0m 2ms/step - accuracy: 0.8506 - loss: 0.4242\n",
            "Точность архитектуры №1 - 84.68000292778015%\n"
          ]
        }
      ],
      "source": [
        "from tensorflow.keras.datasets import fashion_mnist\n",
        "from tensorflow.keras.models import Sequential\n",
        "from tensorflow.keras.layers import Dense\n",
        "from tensorflow.keras.utils import to_categorical\n",
        "import numpy as np\n",
        "\n",
        "(x_train, y_train), (x_test, y_test) = fashion_mnist.load_data()\n",
        "\n",
        "x_train = x_train.reshape(x_train.shape[0], -1) / 255.0\n",
        "x_test = x_test.reshape(x_test.shape[0], -1) / 255.0\n",
        "y_train = to_categorical(y_train)\n",
        "y_test = to_categorical(y_test)\n",
        "\n",
        "# 1\n",
        "model = Sequential()\n",
        "model.add(Dense(10, input_dim=784, activation='relu'))\n",
        "model.add(Dense(10, activation='softmax'))\n",
        "model.compile(loss='categorical_crossentropy', optimizer='adam',\n",
        "metrics=['accuracy'])\n",
        "\n",
        "model.fit(x_train, y_train, epochs=10, validation_split=0.1)\n",
        "\n",
        "_, test_acc = model.evaluate(x_test, y_test)\n",
        "print(f\"Точность архитектуры №1 - {test_acc*100}%\")"
      ]
    },
    {
      "cell_type": "code",
      "execution_count": null,
      "metadata": {
        "colab": {
          "base_uri": "https://localhost:8080/"
        },
        "id": "0Vb5Wfi2-YDZ",
        "outputId": "0dc5d4b4-8f40-4d26-f350-02cf7f47cc74"
      },
      "outputs": [
        {
          "output_type": "stream",
          "name": "stdout",
          "text": [
            "Epoch 1/10\n",
            "\u001b[1m1688/1688\u001b[0m \u001b[32m━━━━━━━━━━━━━━━━━━━━\u001b[0m\u001b[37m\u001b[0m \u001b[1m6s\u001b[0m 3ms/step - accuracy: 0.7646 - loss: 0.6882 - val_accuracy: 0.8318 - val_loss: 0.4541\n",
            "Epoch 2/10\n",
            "\u001b[1m1688/1688\u001b[0m \u001b[32m━━━━━━━━━━━━━━━━━━━━\u001b[0m\u001b[37m\u001b[0m \u001b[1m5s\u001b[0m 3ms/step - accuracy: 0.8496 - loss: 0.4242 - val_accuracy: 0.8590 - val_loss: 0.3969\n",
            "Epoch 3/10\n",
            "\u001b[1m1688/1688\u001b[0m \u001b[32m━━━━━━━━━━━━━━━━━━━━\u001b[0m\u001b[37m\u001b[0m \u001b[1m6s\u001b[0m 3ms/step - accuracy: 0.8645 - loss: 0.3801 - val_accuracy: 0.8623 - val_loss: 0.4008\n",
            "Epoch 4/10\n",
            "\u001b[1m1688/1688\u001b[0m \u001b[32m━━━━━━━━━━━━━━━━━━━━\u001b[0m\u001b[37m\u001b[0m \u001b[1m9s\u001b[0m 3ms/step - accuracy: 0.8768 - loss: 0.3452 - val_accuracy: 0.8668 - val_loss: 0.3766\n",
            "Epoch 5/10\n",
            "\u001b[1m1688/1688\u001b[0m \u001b[32m━━━━━━━━━━━━━━━━━━━━\u001b[0m\u001b[37m\u001b[0m \u001b[1m5s\u001b[0m 3ms/step - accuracy: 0.8841 - loss: 0.3277 - val_accuracy: 0.8732 - val_loss: 0.3500\n",
            "Epoch 6/10\n",
            "\u001b[1m1688/1688\u001b[0m \u001b[32m━━━━━━━━━━━━━━━━━━━━\u001b[0m\u001b[37m\u001b[0m \u001b[1m4s\u001b[0m 3ms/step - accuracy: 0.8889 - loss: 0.3082 - val_accuracy: 0.8740 - val_loss: 0.3411\n",
            "Epoch 7/10\n",
            "\u001b[1m1688/1688\u001b[0m \u001b[32m━━━━━━━━━━━━━━━━━━━━\u001b[0m\u001b[37m\u001b[0m \u001b[1m5s\u001b[0m 3ms/step - accuracy: 0.8901 - loss: 0.2959 - val_accuracy: 0.8710 - val_loss: 0.3579\n",
            "Epoch 8/10\n",
            "\u001b[1m1688/1688\u001b[0m \u001b[32m━━━━━━━━━━━━━━━━━━━━\u001b[0m\u001b[37m\u001b[0m \u001b[1m9s\u001b[0m 2ms/step - accuracy: 0.8971 - loss: 0.2862 - val_accuracy: 0.8723 - val_loss: 0.3647\n",
            "Epoch 9/10\n",
            "\u001b[1m1688/1688\u001b[0m \u001b[32m━━━━━━━━━━━━━━━━━━━━\u001b[0m\u001b[37m\u001b[0m \u001b[1m6s\u001b[0m 3ms/step - accuracy: 0.9001 - loss: 0.2732 - val_accuracy: 0.8797 - val_loss: 0.3458\n",
            "Epoch 10/10\n",
            "\u001b[1m1688/1688\u001b[0m \u001b[32m━━━━━━━━━━━━━━━━━━━━\u001b[0m\u001b[37m\u001b[0m \u001b[1m5s\u001b[0m 3ms/step - accuracy: 0.8993 - loss: 0.2713 - val_accuracy: 0.8825 - val_loss: 0.3407\n",
            "\u001b[1m313/313\u001b[0m \u001b[32m━━━━━━━━━━━━━━━━━━━━\u001b[0m\u001b[37m\u001b[0m \u001b[1m1s\u001b[0m 2ms/step - accuracy: 0.8755 - loss: 0.3604\n",
            "Точность архитектуры №2 - 87.65000104904175%\n"
          ]
        }
      ],
      "source": [
        "# 2\n",
        "model2 = Sequential()\n",
        "model2.add(Dense( 50, input_dim=784, activation='relu'))\n",
        "model2.add(Dense(10, activation='softmax'))\n",
        "model2.compile(loss='categorical_crossentropy', optimizer='adam',\n",
        "metrics=['accuracy'])\n",
        "model2.fit(x_train, y_train, epochs=10, validation_split=0.1)\n",
        "\n",
        "_, test_acc2 = model2.evaluate(x_test, y_test)\n",
        "print(f\"Точность архитектуры №2 - {test_acc2*100}%\")"
      ]
    },
    {
      "cell_type": "code",
      "execution_count": null,
      "metadata": {
        "colab": {
          "base_uri": "https://localhost:8080/"
        },
        "id": "_zPvZn6nAqFQ",
        "outputId": "045ced58-fc2d-4eeb-c662-97c1e7cefe17"
      },
      "outputs": [
        {
          "output_type": "stream",
          "name": "stdout",
          "text": [
            "Epoch 1/10\n",
            "\u001b[1m1688/1688\u001b[0m \u001b[32m━━━━━━━━━━━━━━━━━━━━\u001b[0m\u001b[37m\u001b[0m \u001b[1m7s\u001b[0m 4ms/step - accuracy: 0.7597 - loss: 0.6983 - val_accuracy: 0.8450 - val_loss: 0.4458\n",
            "Epoch 2/10\n",
            "\u001b[1m1688/1688\u001b[0m \u001b[32m━━━━━━━━━━━━━━━━━━━━\u001b[0m\u001b[37m\u001b[0m \u001b[1m9s\u001b[0m 3ms/step - accuracy: 0.8565 - loss: 0.4036 - val_accuracy: 0.8585 - val_loss: 0.3888\n",
            "Epoch 3/10\n",
            "\u001b[1m1688/1688\u001b[0m \u001b[32m━━━━━━━━━━━━━━━━━━━━\u001b[0m\u001b[37m\u001b[0m \u001b[1m6s\u001b[0m 3ms/step - accuracy: 0.8713 - loss: 0.3526 - val_accuracy: 0.8742 - val_loss: 0.3566\n",
            "Epoch 4/10\n",
            "\u001b[1m1688/1688\u001b[0m \u001b[32m━━━━━━━━━━━━━━━━━━━━\u001b[0m\u001b[37m\u001b[0m \u001b[1m10s\u001b[0m 3ms/step - accuracy: 0.8771 - loss: 0.3339 - val_accuracy: 0.8622 - val_loss: 0.3657\n",
            "Epoch 5/10\n",
            "\u001b[1m1688/1688\u001b[0m \u001b[32m━━━━━━━━━━━━━━━━━━━━\u001b[0m\u001b[37m\u001b[0m \u001b[1m4s\u001b[0m 3ms/step - accuracy: 0.8851 - loss: 0.3130 - val_accuracy: 0.8720 - val_loss: 0.3588\n",
            "Epoch 6/10\n",
            "\u001b[1m1688/1688\u001b[0m \u001b[32m━━━━━━━━━━━━━━━━━━━━\u001b[0m\u001b[37m\u001b[0m \u001b[1m6s\u001b[0m 3ms/step - accuracy: 0.8907 - loss: 0.2984 - val_accuracy: 0.8757 - val_loss: 0.3351\n",
            "Epoch 7/10\n",
            "\u001b[1m1688/1688\u001b[0m \u001b[32m━━━━━━━━━━━━━━━━━━━━\u001b[0m\u001b[37m\u001b[0m \u001b[1m6s\u001b[0m 3ms/step - accuracy: 0.8968 - loss: 0.2836 - val_accuracy: 0.8772 - val_loss: 0.3365\n",
            "Epoch 8/10\n",
            "\u001b[1m1688/1688\u001b[0m \u001b[32m━━━━━━━━━━━━━━━━━━━━\u001b[0m\u001b[37m\u001b[0m \u001b[1m5s\u001b[0m 3ms/step - accuracy: 0.8986 - loss: 0.2734 - val_accuracy: 0.8732 - val_loss: 0.3453\n",
            "Epoch 9/10\n",
            "\u001b[1m1688/1688\u001b[0m \u001b[32m━━━━━━━━━━━━━━━━━━━━\u001b[0m\u001b[37m\u001b[0m \u001b[1m6s\u001b[0m 3ms/step - accuracy: 0.9008 - loss: 0.2688 - val_accuracy: 0.8822 - val_loss: 0.3319\n",
            "Epoch 10/10\n",
            "\u001b[1m1688/1688\u001b[0m \u001b[32m━━━━━━━━━━━━━━━━━━━━\u001b[0m\u001b[37m\u001b[0m \u001b[1m5s\u001b[0m 3ms/step - accuracy: 0.9047 - loss: 0.2560 - val_accuracy: 0.8782 - val_loss: 0.3517\n",
            "\u001b[1m313/313\u001b[0m \u001b[32m━━━━━━━━━━━━━━━━━━━━\u001b[0m\u001b[37m\u001b[0m \u001b[1m1s\u001b[0m 2ms/step - accuracy: 0.8765 - loss: 0.3673\n",
            "Точность архитектуры №3 - 87.6200020313263%\n"
          ]
        }
      ],
      "source": [
        "#3\n",
        "model3 = Sequential()\n",
        "model3.add(Dense(50, input_dim=784, activation='relu'))\n",
        "model3.add(Dense(50, activation='relu'))\n",
        "model3.add(Dense(10, activation='softmax'))\n",
        "model3.compile(loss='categorical_crossentropy', optimizer='adam',\n",
        "metrics=['accuracy'])\n",
        "model3.fit(x_train, y_train, epochs=10, validation_split=0.1)\n",
        "\n",
        "_, test_acc3 = model3.evaluate(x_test, y_test)\n",
        "print(f\"Точность архитектуры №3 - {test_acc3*100}%\")"
      ]
    },
    {
      "cell_type": "code",
      "execution_count": null,
      "metadata": {
        "colab": {
          "base_uri": "https://localhost:8080/"
        },
        "id": "93h_g81kBEvz",
        "outputId": "be32c7a1-3f96-4728-dc75-5325695e3f59"
      },
      "outputs": [
        {
          "output_type": "stream",
          "name": "stdout",
          "text": [
            "Epoch 1/10\n",
            "\u001b[1m1688/1688\u001b[0m \u001b[32m━━━━━━━━━━━━━━━━━━━━\u001b[0m\u001b[37m\u001b[0m \u001b[1m41s\u001b[0m 24ms/step - accuracy: 0.7952 - loss: 0.5818 - val_accuracy: 0.8778 - val_loss: 0.3379\n",
            "Epoch 2/10\n",
            "\u001b[1m1688/1688\u001b[0m \u001b[32m━━━━━━━━━━━━━━━━━━━━\u001b[0m\u001b[37m\u001b[0m \u001b[1m40s\u001b[0m 24ms/step - accuracy: 0.8878 - loss: 0.3207 - val_accuracy: 0.8800 - val_loss: 0.3267\n",
            "Epoch 3/10\n",
            "\u001b[1m1688/1688\u001b[0m \u001b[32m━━━━━━━━━━━━━━━━━━━━\u001b[0m\u001b[37m\u001b[0m \u001b[1m41s\u001b[0m 24ms/step - accuracy: 0.8996 - loss: 0.2849 - val_accuracy: 0.8945 - val_loss: 0.2975\n",
            "Epoch 4/10\n",
            "\u001b[1m1688/1688\u001b[0m \u001b[32m━━━━━━━━━━━━━━━━━━━━\u001b[0m\u001b[37m\u001b[0m \u001b[1m41s\u001b[0m 24ms/step - accuracy: 0.9072 - loss: 0.2589 - val_accuracy: 0.9030 - val_loss: 0.2817\n",
            "Epoch 5/10\n",
            "\u001b[1m1688/1688\u001b[0m \u001b[32m━━━━━━━━━━━━━━━━━━━━\u001b[0m\u001b[37m\u001b[0m \u001b[1m39s\u001b[0m 23ms/step - accuracy: 0.9156 - loss: 0.2376 - val_accuracy: 0.9007 - val_loss: 0.2795\n",
            "Epoch 6/10\n",
            "\u001b[1m1688/1688\u001b[0m \u001b[32m━━━━━━━━━━━━━━━━━━━━\u001b[0m\u001b[37m\u001b[0m \u001b[1m39s\u001b[0m 23ms/step - accuracy: 0.9218 - loss: 0.2215 - val_accuracy: 0.8985 - val_loss: 0.2825\n",
            "Epoch 7/10\n",
            "\u001b[1m1688/1688\u001b[0m \u001b[32m━━━━━━━━━━━━━━━━━━━━\u001b[0m\u001b[37m\u001b[0m \u001b[1m42s\u001b[0m 24ms/step - accuracy: 0.9227 - loss: 0.2145 - val_accuracy: 0.9030 - val_loss: 0.2820\n",
            "Epoch 8/10\n",
            "\u001b[1m1688/1688\u001b[0m \u001b[32m━━━━━━━━━━━━━━━━━━━━\u001b[0m\u001b[37m\u001b[0m \u001b[1m43s\u001b[0m 25ms/step - accuracy: 0.9263 - loss: 0.2065 - val_accuracy: 0.9037 - val_loss: 0.2756\n",
            "Epoch 9/10\n",
            "\u001b[1m1688/1688\u001b[0m \u001b[32m━━━━━━━━━━━━━━━━━━━━\u001b[0m\u001b[37m\u001b[0m \u001b[1m79s\u001b[0m 23ms/step - accuracy: 0.9294 - loss: 0.1953 - val_accuracy: 0.9070 - val_loss: 0.2723\n",
            "Epoch 10/10\n",
            "\u001b[1m1688/1688\u001b[0m \u001b[32m━━━━━━━━━━━━━━━━━━━━\u001b[0m\u001b[37m\u001b[0m \u001b[1m39s\u001b[0m 23ms/step - accuracy: 0.9352 - loss: 0.1807 - val_accuracy: 0.9068 - val_loss: 0.2643\n",
            "\u001b[1m313/313\u001b[0m \u001b[32m━━━━━━━━━━━━━━━━━━━━\u001b[0m\u001b[37m\u001b[0m \u001b[1m3s\u001b[0m 10ms/step - accuracy: 0.9069 - loss: 0.2805\n",
            "Точность архитектуры №4 - 90.47999978065491%\n"
          ]
        }
      ],
      "source": [
        "#4\n",
        "from tensorflow.keras.layers import Conv2D, MaxPooling2D, Flatten\n",
        "import numpy as np\n",
        "(x_train, y_train), (x_test, y_test) = fashion_mnist.load_data()\n",
        "x_train = x_train[:,:,:,np.newaxis] / 255.0\n",
        "x_test = x_test[:,:,:,np.newaxis] / 255.0\n",
        "y_train = to_categorical(y_train)\n",
        "y_test = to_categorical(y_test)\n",
        "\n",
        "model4 = Sequential()\n",
        "model4.add(Conv2D(filters=64, kernel_size=2, padding='same',\n",
        "activation='relu', input_shape=(28,28, 1)))\n",
        "model4.add(MaxPooling2D(pool_size=2))\n",
        "model4.add(Flatten())\n",
        "model4.add(Dense(10, activation='softmax'))\n",
        "model4.compile(loss='categorical_crossentropy', optimizer='adam',\n",
        "metrics=['accuracy'])\n",
        "model4.fit(x_train, y_train, epochs=10, validation_split=0.1)\n",
        "\n",
        "_, test_acc4 = model4.evaluate(x_test, y_test)\n",
        "print(f\"Точность архитектуры №4 - {test_acc4*100}%\")"
      ]
    },
    {
      "cell_type": "code",
      "execution_count": 24,
      "metadata": {
        "id": "Yrpj2UV1BteD",
        "colab": {
          "base_uri": "https://localhost:8080/"
        },
        "outputId": "8508eb13-1fbd-47dc-b63c-f8524aa3d26b"
      },
      "outputs": [
        {
          "output_type": "stream",
          "name": "stdout",
          "text": [
            "Epoch 1/3\n",
            "\u001b[1m1/1\u001b[0m \u001b[32m━━━━━━━━━━━━━━━━━━━━\u001b[0m\u001b[37m\u001b[0m \u001b[1m2s\u001b[0m 2s/step - accuracy: 1.0000 - loss: 0.0055\n",
            "Epoch 2/3\n",
            "\u001b[1m1/1\u001b[0m \u001b[32m━━━━━━━━━━━━━━━━━━━━\u001b[0m\u001b[37m\u001b[0m \u001b[1m0s\u001b[0m 53ms/step - accuracy: 1.0000 - loss: 0.0052\n",
            "Epoch 3/3\n",
            "\u001b[1m1/1\u001b[0m \u001b[32m━━━━━━━━━━━━━━━━━━━━\u001b[0m\u001b[37m\u001b[0m \u001b[1m0s\u001b[0m 52ms/step - accuracy: 1.0000 - loss: 0.0049\n",
            "\u001b[1m1/1\u001b[0m \u001b[32m━━━━━━━━━━━━━━━━━━━━\u001b[0m\u001b[37m\u001b[0m \u001b[1m0s\u001b[0m 73ms/step\n",
            "Вход X: [[ 0.2 -0.3]]\n",
            "Предсказание сети: [[0.32027993 0.6526699 ]]\n",
            "Ожидаемый выход Y: [[0.4 0.6]]\n",
            "MSE: 0.004564704625849764\n"
          ]
        }
      ],
      "source": [
        "# Вариант №1 (2-3-2)\n",
        "\n",
        "learning_rate = 0.25\n",
        "epochs = 10\n",
        "input_dim = 2  #размер входного вектора\n",
        "hidden_units = 3  # нейроны\n",
        "output_dim = 2  # размер выходного вектора\n",
        "\n",
        "\n",
        "W1 = np.array([[0.5, 0.2, -0.6],\n",
        "               [0.7, -0.1, 0.4]])\n",
        "b1 = np.array([0.3, -0.6, 0.8])\n",
        "\n",
        "W2 = np.array([[-0.8, 0.2],\n",
        "               [0.6, 0.4],\n",
        "               [0.5, -0.2]])\n",
        "b2 = np.array([0.1, -0.1])\n",
        "\n",
        "model5 = Sequential()\n",
        "\n",
        "# Скрытый слой\n",
        "\n",
        "model5.add(Dense(hidden_units,\n",
        "                input_dim=input_dim,\n",
        "                activation='relu',\n",
        "                kernel_initializer=lambda shape, dtype=None: W1,\n",
        "                bias_initializer=lambda shape, dtype=None: b1))\n",
        "\n",
        "\n",
        "model5.add(Dense(output_dim,\n",
        "                activation='softmax',\n",
        "                kernel_initializer=lambda shape, dtype=None: W2,\n",
        "                bias_initializer=lambda shape, dtype=None: b2))\n",
        "model5.add(Dense(output_dim,\n",
        "                activation='relu') )\n",
        "\n",
        "model5.compile(loss='mean_squared_error',optimizer=\"adam\", metrics=['accuracy'])\n",
        "\n",
        "\n",
        "X = np.array([[0.2, -0.3]])\n",
        "Y = np.array([[0.4, 0.6]])\n",
        "\n",
        "model5.fit(X, Y, epochs=3)\n",
        "\n",
        "output = model5.predict(X)\n",
        "\n",
        "print(\"Вход X:\", X)\n",
        "print(\"Предсказание сети:\", output)\n",
        "print(\"Ожидаемый выход Y:\", Y)\n",
        "print(\"MSE:\", np.mean((output - Y)**2))"
      ]
    }
  ],
  "metadata": {
    "colab": {
      "provenance": []
    },
    "kernelspec": {
      "display_name": "Python 3",
      "name": "python3"
    },
    "language_info": {
      "name": "python"
    }
  },
  "nbformat": 4,
  "nbformat_minor": 0
}